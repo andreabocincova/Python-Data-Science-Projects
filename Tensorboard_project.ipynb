{
 "cells": [
  {
   "cell_type": "markdown",
   "metadata": {},
   "source": [
    "# Tensorboard Project\n",
    "\n",
    "---\n",
    "---\n",
    "Useful notes on using tensorboard to visualize ANNs\n",
    "\n",
    "Full official tutorial: https://www.tensorflow.org/tensorboard/get_started"
   ]
  },
  {
   "cell_type": "code",
   "execution_count": 24,
   "metadata": {},
   "outputs": [],
   "source": [
    "import pandas as pd\n",
    "import numpy as np"
   ]
  },
  {
   "cell_type": "code",
   "execution_count": 25,
   "metadata": {},
   "outputs": [],
   "source": [
    "df = pd.read_csv('../DATA/cancer_classification.csv')"
   ]
  },
  {
   "cell_type": "markdown",
   "metadata": {},
   "source": [
    "**Train Test Split**"
   ]
  },
  {
   "cell_type": "code",
   "execution_count": 26,
   "metadata": {},
   "outputs": [],
   "source": [
    "X = df.drop('benign_0__mal_1',axis=1).values\n",
    "y = df['benign_0__mal_1'].values"
   ]
  },
  {
   "cell_type": "code",
   "execution_count": 27,
   "metadata": {},
   "outputs": [],
   "source": [
    "from sklearn.model_selection import train_test_split"
   ]
  },
  {
   "cell_type": "code",
   "execution_count": 6,
   "metadata": {},
   "outputs": [],
   "source": [
    "X_train, X_test, y_train, y_test = train_test_split(X,y,test_size=0.25,random_state=101)"
   ]
  },
  {
   "cell_type": "markdown",
   "metadata": {},
   "source": [
    "**Scaling Data**"
   ]
  },
  {
   "cell_type": "code",
   "execution_count": 7,
   "metadata": {},
   "outputs": [],
   "source": [
    "from sklearn.preprocessing import MinMaxScaler"
   ]
  },
  {
   "cell_type": "code",
   "execution_count": 8,
   "metadata": {},
   "outputs": [],
   "source": [
    "scaler = MinMaxScaler()"
   ]
  },
  {
   "cell_type": "code",
   "execution_count": 9,
   "metadata": {},
   "outputs": [
    {
     "data": {
      "text/plain": [
       "MinMaxScaler()"
      ]
     },
     "execution_count": 9,
     "metadata": {},
     "output_type": "execute_result"
    }
   ],
   "source": [
    "scaler.fit(X_train)"
   ]
  },
  {
   "cell_type": "code",
   "execution_count": 10,
   "metadata": {},
   "outputs": [],
   "source": [
    "X_train = scaler.transform(X_train)\n",
    "X_test = scaler.transform(X_test)"
   ]
  },
  {
   "cell_type": "markdown",
   "metadata": {},
   "source": [
    "**Creating the Model**"
   ]
  },
  {
   "cell_type": "code",
   "execution_count": 11,
   "metadata": {},
   "outputs": [],
   "source": [
    "import tensorflow as tf\n",
    "from tensorflow.keras.models import Sequential\n",
    "from tensorflow.keras.layers import Dense, Activation,Dropout"
   ]
  },
  {
   "cell_type": "code",
   "execution_count": 12,
   "metadata": {},
   "outputs": [],
   "source": [
    "from tensorflow.keras.callbacks import EarlyStopping,TensorBoard"
   ]
  },
  {
   "cell_type": "code",
   "execution_count": 13,
   "metadata": {},
   "outputs": [],
   "source": [
    "early_stop = EarlyStopping(monitor='val_loss', mode='min', verbose=1, patience=25)"
   ]
  },
  {
   "cell_type": "code",
   "execution_count": 14,
   "metadata": {},
   "outputs": [
    {
     "data": {
      "text/plain": [
       "'/Users/andreabocincova/Desktop/Courses/Python4DataScience/Refactored_Py_DS_ML_Bootcamp-master/22-Deep-Learning/TensorFlow_FILES/ANNs'"
      ]
     },
     "execution_count": 14,
     "metadata": {},
     "output_type": "execute_result"
    }
   ],
   "source": [
    "# check the current path to the jupyter notebook used to setup and run the model\n",
    "pwd"
   ]
  },
  {
   "cell_type": "markdown",
   "metadata": {},
   "source": [
    "### Creating the Tensorboard Callback\n",
    "\n",
    "TensorBoard is a visualization tool provided with TensorFlow.\n",
    "* Metrics summary plots\n",
    "* Training graph visualization\n",
    "* Activation histograms\n",
    "* Sampled profiling\n",
    "\n",
    "Launching tensorboard from command line using the following line:\n",
    "\n",
    "```sh\n",
    "tensorboard --logdir=path_to_your_logs\n",
    "```\n",
    "(if error related to wekzeug pops up when using the above line, downgrade the wekzeug to lower version using the following command:  \n",
    "pip install Werkzeug==0.16.1\n",
    "\n",
    "More information about TensorBoard\n",
    "[here](https://www.tensorflow.org/tensorboard/).\n",
    "\n",
    "    Arguments:\n",
    "        log_dir: the path of the directory where to save the log files to be\n",
    "          parsed by TensorBoard.\n",
    "        histogram_freq: frequency (in epochs) at which to compute activation and\n",
    "          weight histograms for the layers of the model. If set to 0, histograms\n",
    "          won't be computed. Validation data (or split) must be specified for\n",
    "          histogram visualizations.\n",
    "        write_graph: whether to visualize the graph in TensorBoard. The log file\n",
    "          can become quite large when write_graph is set to True.\n",
    "        write_images: whether to write model weights to visualize as image in\n",
    "          TensorBoard.\n",
    "        update_freq: `'batch'` or `'epoch'` or integer. When using `'batch'`,\n",
    "          writes the losses and metrics to TensorBoard after each batch. The same\n",
    "          applies for `'epoch'`. If using an integer, let's say `1000`, the\n",
    "          callback will write the metrics and losses to TensorBoard every 1000\n",
    "          samples. Note that writing too frequently to TensorBoard can slow down\n",
    "          your training.\n",
    "        profile_batch: Profile the batch to sample compute characteristics. By\n",
    "          default, it will profile the second batch. Set profile_batch=0 to\n",
    "          disable profiling. Must run in TensorFlow eager mode.\n",
    "        embeddings_freq: frequency (in epochs) at which embedding layers will\n",
    "          be visualized. If set to 0, embeddings won't be visualized.\n",
    "       "
   ]
  },
  {
   "cell_type": "code",
   "execution_count": 15,
   "metadata": {},
   "outputs": [],
   "source": [
    "from datetime import datetime"
   ]
  },
  {
   "cell_type": "code",
   "execution_count": 16,
   "metadata": {},
   "outputs": [
    {
     "data": {
      "text/plain": [
       "'2021-05-19--0817'"
      ]
     },
     "execution_count": 16,
     "metadata": {},
     "output_type": "execute_result"
    }
   ],
   "source": [
    "datetime.now().strftime(\"%Y-%m-%d--%H%M\")"
   ]
  },
  {
   "cell_type": "code",
   "execution_count": 18,
   "metadata": {},
   "outputs": [],
   "source": [
    "# format of the directory is dependent on the OS\n",
    "# WINDOWS: Use \"logs\\\\fit\"\n",
    "# MACOS/LINUX: Use \"logs\\fit\"\n",
    "\n",
    "log_directory = 'logs/fit'\n",
    "\n",
    "# OPTIONAL: ADD A TIMESTAMP FOR UNIQUE FOLDER\n",
    "# timestamp = datetime.now().strftime(\"%Y-%m-%d--%H%M\")\n",
    "# log_directory = log_directory + '\\\\' + timestamp\n",
    "\n",
    "board = TensorBoard(log_dir=log_directory,histogram_freq=1,\n",
    "    write_graph=True,\n",
    "    write_images=True,\n",
    "    update_freq='epoch',\n",
    "    profile_batch=2,\n",
    "    embeddings_freq=1)"
   ]
  },
  {
   "cell_type": "markdown",
   "metadata": {},
   "source": [
    "Now create the model layers:"
   ]
  },
  {
   "cell_type": "code",
   "execution_count": 19,
   "metadata": {},
   "outputs": [],
   "source": [
    "model = Sequential()\n",
    "model.add(Dense(units=30,activation='relu'))\n",
    "model.add(Dropout(0.5))\n",
    "model.add(Dense(units=15,activation='relu'))\n",
    "model.add(Dropout(0.5))\n",
    "model.add(Dense(units=1,activation='sigmoid'))\n",
    "model.compile(loss='binary_crossentropy', optimizer='adam')"
   ]
  },
  {
   "cell_type": "markdown",
   "metadata": {},
   "source": [
    "**Train the Model**"
   ]
  },
  {
   "cell_type": "code",
   "execution_count": 20,
   "metadata": {},
   "outputs": [
    {
     "name": "stdout",
     "output_type": "stream",
     "text": [
      "Epoch 1/600\n",
      "14/14 [==============================] - 3s 132ms/step - loss: 0.7229 - val_loss: 0.6992\n",
      "Epoch 2/600\n",
      "14/14 [==============================] - 0s 8ms/step - loss: 0.6896 - val_loss: 0.6767\n",
      "Epoch 3/600\n",
      "14/14 [==============================] - 0s 8ms/step - loss: 0.6601 - val_loss: 0.6538\n",
      "Epoch 4/600\n",
      "14/14 [==============================] - 0s 9ms/step - loss: 0.6507 - val_loss: 0.6306\n",
      "Epoch 5/600\n",
      "14/14 [==============================] - 0s 9ms/step - loss: 0.6313 - val_loss: 0.6040\n",
      "Epoch 6/600\n",
      "14/14 [==============================] - 0s 9ms/step - loss: 0.6149 - val_loss: 0.5827\n",
      "Epoch 7/600\n",
      "14/14 [==============================] - 0s 8ms/step - loss: 0.6076 - val_loss: 0.5589\n",
      "Epoch 8/600\n",
      "14/14 [==============================] - 0s 9ms/step - loss: 0.5810 - val_loss: 0.5315\n",
      "Epoch 9/600\n",
      "14/14 [==============================] - 0s 9ms/step - loss: 0.5613 - val_loss: 0.5066\n",
      "Epoch 10/600\n",
      "14/14 [==============================] - 0s 8ms/step - loss: 0.5418 - val_loss: 0.4842\n",
      "Epoch 11/600\n",
      "14/14 [==============================] - 0s 9ms/step - loss: 0.4973 - val_loss: 0.4526\n",
      "Epoch 12/600\n",
      "14/14 [==============================] - 0s 10ms/step - loss: 0.5040 - val_loss: 0.4291\n",
      "Epoch 13/600\n",
      "14/14 [==============================] - 0s 9ms/step - loss: 0.5130 - val_loss: 0.4066\n",
      "Epoch 14/600\n",
      "14/14 [==============================] - 0s 9ms/step - loss: 0.4407 - val_loss: 0.3845\n",
      "Epoch 15/600\n",
      "14/14 [==============================] - 0s 10ms/step - loss: 0.4031 - val_loss: 0.3609\n",
      "Epoch 16/600\n",
      "14/14 [==============================] - 0s 10ms/step - loss: 0.3994 - val_loss: 0.3356\n",
      "Epoch 17/600\n",
      "14/14 [==============================] - 0s 8ms/step - loss: 0.3881 - val_loss: 0.3120\n",
      "Epoch 18/600\n",
      "14/14 [==============================] - 0s 9ms/step - loss: 0.3910 - val_loss: 0.2965\n",
      "Epoch 19/600\n",
      "14/14 [==============================] - 0s 9ms/step - loss: 0.3650 - val_loss: 0.2775\n",
      "Epoch 20/600\n",
      "14/14 [==============================] - 0s 8ms/step - loss: 0.3387 - val_loss: 0.2597\n",
      "Epoch 21/600\n",
      "14/14 [==============================] - 0s 8ms/step - loss: 0.3384 - val_loss: 0.2418\n",
      "Epoch 22/600\n",
      "14/14 [==============================] - 0s 9ms/step - loss: 0.3667 - val_loss: 0.2297\n",
      "Epoch 23/600\n",
      "14/14 [==============================] - 0s 9ms/step - loss: 0.3416 - val_loss: 0.2217\n",
      "Epoch 24/600\n",
      "14/14 [==============================] - 0s 9ms/step - loss: 0.2927 - val_loss: 0.2095\n",
      "Epoch 25/600\n",
      "14/14 [==============================] - 0s 9ms/step - loss: 0.2933 - val_loss: 0.2099\n",
      "Epoch 26/600\n",
      "14/14 [==============================] - 0s 8ms/step - loss: 0.2997 - val_loss: 0.1925\n",
      "Epoch 27/600\n",
      "14/14 [==============================] - 0s 9ms/step - loss: 0.2669 - val_loss: 0.1869\n",
      "Epoch 28/600\n",
      "14/14 [==============================] - 0s 9ms/step - loss: 0.2861 - val_loss: 0.1820\n",
      "Epoch 29/600\n",
      "14/14 [==============================] - 0s 10ms/step - loss: 0.2772 - val_loss: 0.1783\n",
      "Epoch 30/600\n",
      "14/14 [==============================] - 0s 10ms/step - loss: 0.2612 - val_loss: 0.1762\n",
      "Epoch 31/600\n",
      "14/14 [==============================] - 0s 9ms/step - loss: 0.2823 - val_loss: 0.1686\n",
      "Epoch 32/600\n",
      "14/14 [==============================] - 0s 9ms/step - loss: 0.2430 - val_loss: 0.1641\n",
      "Epoch 33/600\n",
      "14/14 [==============================] - 0s 9ms/step - loss: 0.2909 - val_loss: 0.1590\n",
      "Epoch 34/600\n",
      "14/14 [==============================] - 0s 8ms/step - loss: 0.2490 - val_loss: 0.1499\n",
      "Epoch 35/600\n",
      "14/14 [==============================] - 0s 9ms/step - loss: 0.2519 - val_loss: 0.1465\n",
      "Epoch 36/600\n",
      "14/14 [==============================] - 0s 9ms/step - loss: 0.2628 - val_loss: 0.1476\n",
      "Epoch 37/600\n",
      "14/14 [==============================] - 0s 10ms/step - loss: 0.2018 - val_loss: 0.1411\n",
      "Epoch 38/600\n",
      "14/14 [==============================] - 0s 9ms/step - loss: 0.2316 - val_loss: 0.1379\n",
      "Epoch 39/600\n",
      "14/14 [==============================] - 0s 9ms/step - loss: 0.1866 - val_loss: 0.1402\n",
      "Epoch 40/600\n",
      "14/14 [==============================] - 0s 8ms/step - loss: 0.1990 - val_loss: 0.1389\n",
      "Epoch 41/600\n",
      "14/14 [==============================] - 0s 9ms/step - loss: 0.2470 - val_loss: 0.1284\n",
      "Epoch 42/600\n",
      "14/14 [==============================] - 0s 9ms/step - loss: 0.1814 - val_loss: 0.1263\n",
      "Epoch 43/600\n",
      "14/14 [==============================] - 0s 10ms/step - loss: 0.1759 - val_loss: 0.1297\n",
      "Epoch 44/600\n",
      "14/14 [==============================] - 0s 10ms/step - loss: 0.1546 - val_loss: 0.1211\n",
      "Epoch 45/600\n",
      "14/14 [==============================] - 0s 9ms/step - loss: 0.1803 - val_loss: 0.1270\n",
      "Epoch 46/600\n",
      "14/14 [==============================] - 0s 10ms/step - loss: 0.2255 - val_loss: 0.1199\n",
      "Epoch 47/600\n",
      "14/14 [==============================] - 0s 9ms/step - loss: 0.1642 - val_loss: 0.1217\n",
      "Epoch 48/600\n",
      "14/14 [==============================] - 0s 10ms/step - loss: 0.1792 - val_loss: 0.1228\n",
      "Epoch 49/600\n",
      "14/14 [==============================] - 0s 10ms/step - loss: 0.1535 - val_loss: 0.1154\n",
      "Epoch 50/600\n",
      "14/14 [==============================] - 0s 10ms/step - loss: 0.1803 - val_loss: 0.1214\n",
      "Epoch 51/600\n",
      "14/14 [==============================] - 0s 9ms/step - loss: 0.1684 - val_loss: 0.1173\n",
      "Epoch 52/600\n",
      "14/14 [==============================] - 0s 9ms/step - loss: 0.1644 - val_loss: 0.1172\n",
      "Epoch 53/600\n",
      "14/14 [==============================] - 0s 10ms/step - loss: 0.1663 - val_loss: 0.1117\n",
      "Epoch 54/600\n",
      "14/14 [==============================] - 0s 8ms/step - loss: 0.1842 - val_loss: 0.1102\n",
      "Epoch 55/600\n",
      "14/14 [==============================] - 0s 9ms/step - loss: 0.2060 - val_loss: 0.1122\n",
      "Epoch 56/600\n",
      "14/14 [==============================] - 0s 9ms/step - loss: 0.1882 - val_loss: 0.1129\n",
      "Epoch 57/600\n",
      "14/14 [==============================] - 0s 9ms/step - loss: 0.1245 - val_loss: 0.1032\n",
      "Epoch 58/600\n",
      "14/14 [==============================] - 0s 9ms/step - loss: 0.1373 - val_loss: 0.1093\n",
      "Epoch 59/600\n",
      "14/14 [==============================] - 0s 9ms/step - loss: 0.1504 - val_loss: 0.1140\n",
      "Epoch 60/600\n",
      "14/14 [==============================] - 0s 9ms/step - loss: 0.1552 - val_loss: 0.1040\n",
      "Epoch 61/600\n",
      "14/14 [==============================] - 0s 8ms/step - loss: 0.1548 - val_loss: 0.1035\n",
      "Epoch 62/600\n",
      "14/14 [==============================] - 0s 9ms/step - loss: 0.1277 - val_loss: 0.1050\n",
      "Epoch 63/600\n",
      "14/14 [==============================] - 0s 8ms/step - loss: 0.1505 - val_loss: 0.1138\n",
      "Epoch 64/600\n",
      "14/14 [==============================] - 0s 9ms/step - loss: 0.1109 - val_loss: 0.1014\n",
      "Epoch 65/600\n",
      "14/14 [==============================] - 0s 9ms/step - loss: 0.1353 - val_loss: 0.1049\n",
      "Epoch 66/600\n",
      "14/14 [==============================] - 0s 9ms/step - loss: 0.1445 - val_loss: 0.1061\n",
      "Epoch 67/600\n",
      "14/14 [==============================] - 0s 9ms/step - loss: 0.1352 - val_loss: 0.1042\n",
      "Epoch 68/600\n",
      "14/14 [==============================] - 0s 9ms/step - loss: 0.1571 - val_loss: 0.0991\n",
      "Epoch 69/600\n",
      "14/14 [==============================] - 0s 10ms/step - loss: 0.1288 - val_loss: 0.1100\n",
      "Epoch 70/600\n",
      "14/14 [==============================] - 0s 8ms/step - loss: 0.1297 - val_loss: 0.1038\n",
      "Epoch 71/600\n",
      "14/14 [==============================] - 0s 9ms/step - loss: 0.1234 - val_loss: 0.0993\n",
      "Epoch 72/600\n",
      "14/14 [==============================] - 0s 8ms/step - loss: 0.1616 - val_loss: 0.0980\n",
      "Epoch 73/600\n",
      "14/14 [==============================] - 0s 9ms/step - loss: 0.1425 - val_loss: 0.1253\n",
      "Epoch 74/600\n",
      "14/14 [==============================] - 0s 9ms/step - loss: 0.1517 - val_loss: 0.0954\n",
      "Epoch 75/600\n",
      "14/14 [==============================] - 0s 8ms/step - loss: 0.1197 - val_loss: 0.0968\n",
      "Epoch 76/600\n",
      "14/14 [==============================] - 0s 8ms/step - loss: 0.1317 - val_loss: 0.1190\n",
      "Epoch 77/600\n",
      "14/14 [==============================] - 0s 10ms/step - loss: 0.1060 - val_loss: 0.0964\n",
      "Epoch 78/600\n",
      "14/14 [==============================] - 0s 10ms/step - loss: 0.1682 - val_loss: 0.1081\n",
      "Epoch 79/600\n",
      "14/14 [==============================] - 0s 8ms/step - loss: 0.1150 - val_loss: 0.0922\n",
      "Epoch 80/600\n",
      "14/14 [==============================] - 0s 8ms/step - loss: 0.0858 - val_loss: 0.1016\n",
      "Epoch 81/600\n",
      "14/14 [==============================] - 0s 8ms/step - loss: 0.1403 - val_loss: 0.0949\n",
      "Epoch 82/600\n",
      "14/14 [==============================] - 0s 10ms/step - loss: 0.1257 - val_loss: 0.1009\n"
     ]
    },
    {
     "name": "stdout",
     "output_type": "stream",
     "text": [
      "Epoch 83/600\n",
      "14/14 [==============================] - 0s 9ms/step - loss: 0.1516 - val_loss: 0.1070\n",
      "Epoch 84/600\n",
      "14/14 [==============================] - 0s 8ms/step - loss: 0.1280 - val_loss: 0.0922\n",
      "Epoch 85/600\n",
      "14/14 [==============================] - 0s 10ms/step - loss: 0.1112 - val_loss: 0.0974\n",
      "Epoch 86/600\n",
      "14/14 [==============================] - 0s 8ms/step - loss: 0.1235 - val_loss: 0.0961\n",
      "Epoch 87/600\n",
      "14/14 [==============================] - 0s 9ms/step - loss: 0.1345 - val_loss: 0.0930\n",
      "Epoch 88/600\n",
      "14/14 [==============================] - 0s 9ms/step - loss: 0.0975 - val_loss: 0.1007\n",
      "Epoch 89/600\n",
      "14/14 [==============================] - 0s 9ms/step - loss: 0.1281 - val_loss: 0.0971\n",
      "Epoch 90/600\n",
      "14/14 [==============================] - 0s 8ms/step - loss: 0.1216 - val_loss: 0.0952\n",
      "Epoch 91/600\n",
      "14/14 [==============================] - 0s 8ms/step - loss: 0.0910 - val_loss: 0.1062\n",
      "Epoch 92/600\n",
      "14/14 [==============================] - 0s 9ms/step - loss: 0.0717 - val_loss: 0.1009\n",
      "Epoch 93/600\n",
      "14/14 [==============================] - 0s 10ms/step - loss: 0.0874 - val_loss: 0.0987\n",
      "Epoch 94/600\n",
      "14/14 [==============================] - 0s 10ms/step - loss: 0.1172 - val_loss: 0.1096\n",
      "Epoch 95/600\n",
      "14/14 [==============================] - 0s 8ms/step - loss: 0.0876 - val_loss: 0.0975\n",
      "Epoch 96/600\n",
      "14/14 [==============================] - 0s 9ms/step - loss: 0.0886 - val_loss: 0.0922\n",
      "Epoch 97/600\n",
      "14/14 [==============================] - 0s 9ms/step - loss: 0.1268 - val_loss: 0.0983\n",
      "Epoch 98/600\n",
      "14/14 [==============================] - 0s 9ms/step - loss: 0.1157 - val_loss: 0.0953\n",
      "Epoch 99/600\n",
      "14/14 [==============================] - 0s 8ms/step - loss: 0.0999 - val_loss: 0.0895\n",
      "Epoch 100/600\n",
      "14/14 [==============================] - 0s 10ms/step - loss: 0.0868 - val_loss: 0.0972\n",
      "Epoch 101/600\n",
      "14/14 [==============================] - 0s 9ms/step - loss: 0.1131 - val_loss: 0.1002\n",
      "Epoch 102/600\n",
      "14/14 [==============================] - 0s 9ms/step - loss: 0.1214 - val_loss: 0.0967\n",
      "Epoch 103/600\n",
      "14/14 [==============================] - 0s 9ms/step - loss: 0.0842 - val_loss: 0.0906\n",
      "Epoch 104/600\n",
      "14/14 [==============================] - 0s 9ms/step - loss: 0.1307 - val_loss: 0.0942\n",
      "Epoch 105/600\n",
      "14/14 [==============================] - 0s 9ms/step - loss: 0.0882 - val_loss: 0.0934\n",
      "Epoch 106/600\n",
      "14/14 [==============================] - 0s 8ms/step - loss: 0.1244 - val_loss: 0.0919\n",
      "Epoch 107/600\n",
      "14/14 [==============================] - 0s 9ms/step - loss: 0.1005 - val_loss: 0.1077\n",
      "Epoch 108/600\n",
      "14/14 [==============================] - 0s 8ms/step - loss: 0.1362 - val_loss: 0.0909\n",
      "Epoch 109/600\n",
      "14/14 [==============================] - 0s 10ms/step - loss: 0.1208 - val_loss: 0.0931\n",
      "Epoch 110/600\n",
      "14/14 [==============================] - 0s 9ms/step - loss: 0.1117 - val_loss: 0.1102\n",
      "Epoch 111/600\n",
      "14/14 [==============================] - 0s 9ms/step - loss: 0.1154 - val_loss: 0.0957\n",
      "Epoch 112/600\n",
      "14/14 [==============================] - 0s 9ms/step - loss: 0.1101 - val_loss: 0.0877\n",
      "Epoch 113/600\n",
      "14/14 [==============================] - 0s 9ms/step - loss: 0.1257 - val_loss: 0.0920\n",
      "Epoch 114/600\n",
      "14/14 [==============================] - 0s 8ms/step - loss: 0.1001 - val_loss: 0.1033\n",
      "Epoch 115/600\n",
      "14/14 [==============================] - 0s 9ms/step - loss: 0.1196 - val_loss: 0.0981\n",
      "Epoch 116/600\n",
      "14/14 [==============================] - 0s 8ms/step - loss: 0.0825 - val_loss: 0.0930\n",
      "Epoch 117/600\n",
      "14/14 [==============================] - 0s 9ms/step - loss: 0.1022 - val_loss: 0.1020\n",
      "Epoch 118/600\n",
      "14/14 [==============================] - 0s 9ms/step - loss: 0.0770 - val_loss: 0.0992\n",
      "Epoch 119/600\n",
      "14/14 [==============================] - 0s 9ms/step - loss: 0.1106 - val_loss: 0.1126\n",
      "Epoch 120/600\n",
      "14/14 [==============================] - 0s 9ms/step - loss: 0.1066 - val_loss: 0.0928\n",
      "Epoch 121/600\n",
      "14/14 [==============================] - 0s 9ms/step - loss: 0.1461 - val_loss: 0.1010\n",
      "Epoch 122/600\n",
      "14/14 [==============================] - 0s 9ms/step - loss: 0.0796 - val_loss: 0.0934\n",
      "Epoch 123/600\n",
      "14/14 [==============================] - 0s 8ms/step - loss: 0.0999 - val_loss: 0.0920\n",
      "Epoch 124/600\n",
      "14/14 [==============================] - 0s 9ms/step - loss: 0.1221 - val_loss: 0.0912\n",
      "Epoch 125/600\n",
      "14/14 [==============================] - 0s 9ms/step - loss: 0.1275 - val_loss: 0.0875\n",
      "Epoch 126/600\n",
      "14/14 [==============================] - 0s 9ms/step - loss: 0.1087 - val_loss: 0.0993\n",
      "Epoch 127/600\n",
      "14/14 [==============================] - 0s 9ms/step - loss: 0.0949 - val_loss: 0.0913\n",
      "Epoch 128/600\n",
      "14/14 [==============================] - 0s 9ms/step - loss: 0.1040 - val_loss: 0.1062\n",
      "Epoch 129/600\n",
      "14/14 [==============================] - 0s 9ms/step - loss: 0.0939 - val_loss: 0.1013\n",
      "Epoch 130/600\n",
      "14/14 [==============================] - 0s 9ms/step - loss: 0.0813 - val_loss: 0.0880\n",
      "Epoch 131/600\n",
      "14/14 [==============================] - 0s 12ms/step - loss: 0.1051 - val_loss: 0.1055\n",
      "Epoch 132/600\n",
      "14/14 [==============================] - 0s 9ms/step - loss: 0.0657 - val_loss: 0.0958\n",
      "Epoch 133/600\n",
      "14/14 [==============================] - 0s 9ms/step - loss: 0.0878 - val_loss: 0.0957\n",
      "Epoch 134/600\n",
      "14/14 [==============================] - 0s 9ms/step - loss: 0.0851 - val_loss: 0.0942\n",
      "Epoch 135/600\n",
      "14/14 [==============================] - 0s 9ms/step - loss: 0.0933 - val_loss: 0.0883\n",
      "Epoch 136/600\n",
      "14/14 [==============================] - 0s 10ms/step - loss: 0.0856 - val_loss: 0.1008\n",
      "Epoch 137/600\n",
      "14/14 [==============================] - 0s 10ms/step - loss: 0.0976 - val_loss: 0.0892\n",
      "Epoch 138/600\n",
      "14/14 [==============================] - 0s 9ms/step - loss: 0.0945 - val_loss: 0.0973\n",
      "Epoch 139/600\n",
      "14/14 [==============================] - 0s 9ms/step - loss: 0.1264 - val_loss: 0.0880\n",
      "Epoch 140/600\n",
      "14/14 [==============================] - 0s 8ms/step - loss: 0.0575 - val_loss: 0.0917\n",
      "Epoch 141/600\n",
      "14/14 [==============================] - 0s 9ms/step - loss: 0.1174 - val_loss: 0.1178\n",
      "Epoch 142/600\n",
      "14/14 [==============================] - 0s 9ms/step - loss: 0.1043 - val_loss: 0.0926\n",
      "Epoch 143/600\n",
      "14/14 [==============================] - 0s 9ms/step - loss: 0.0809 - val_loss: 0.0904\n",
      "Epoch 144/600\n",
      "14/14 [==============================] - 0s 9ms/step - loss: 0.0767 - val_loss: 0.0911\n",
      "Epoch 145/600\n",
      "14/14 [==============================] - 0s 9ms/step - loss: 0.0868 - val_loss: 0.0991\n",
      "Epoch 146/600\n",
      "14/14 [==============================] - 0s 9ms/step - loss: 0.0919 - val_loss: 0.1126\n",
      "Epoch 147/600\n",
      "14/14 [==============================] - 0s 9ms/step - loss: 0.0815 - val_loss: 0.1074\n",
      "Epoch 148/600\n",
      "14/14 [==============================] - 0s 8ms/step - loss: 0.1072 - val_loss: 0.0984\n",
      "Epoch 149/600\n",
      "14/14 [==============================] - 0s 9ms/step - loss: 0.1046 - val_loss: 0.1042\n",
      "Epoch 150/600\n",
      "14/14 [==============================] - 0s 9ms/step - loss: 0.0824 - val_loss: 0.0941\n",
      "Epoch 00150: early stopping\n"
     ]
    },
    {
     "data": {
      "text/plain": [
       "<tensorflow.python.keras.callbacks.History at 0x7fa3d0e203d0>"
      ]
     },
     "execution_count": 20,
     "metadata": {},
     "output_type": "execute_result"
    }
   ],
   "source": [
    "model.fit(x=X_train, \n",
    "          y=y_train, \n",
    "          epochs=600,\n",
    "          validation_data=(X_test, y_test), verbose=1,\n",
    "          callbacks=[early_stop,board]\n",
    "          )"
   ]
  },
  {
   "cell_type": "markdown",
   "metadata": {},
   "source": [
    "## Running Tensorboard\n"
   ]
  },
  {
   "cell_type": "markdown",
   "metadata": {},
   "source": [
    "Tensorboard will run locally in the browser at [http://localhost:6006/](http://localhost:6006/)"
   ]
  },
  {
   "cell_type": "code",
   "execution_count": 22,
   "metadata": {},
   "outputs": [
    {
     "name": "stdout",
     "output_type": "stream",
     "text": [
      "logs/fit\n"
     ]
    }
   ],
   "source": [
    "print(log_directory)"
   ]
  },
  {
   "cell_type": "code",
   "execution_count": 23,
   "metadata": {},
   "outputs": [
    {
     "data": {
      "text/plain": [
       "'/Users/andreabocincova/Desktop/Courses/Python4DataScience/Refactored_Py_DS_ML_Bootcamp-master/22-Deep-Learning/TensorFlow_FILES/ANNs'"
      ]
     },
     "execution_count": 23,
     "metadata": {},
     "output_type": "execute_result"
    }
   ],
   "source": [
    "pwd"
   ]
  },
  {
   "cell_type": "markdown",
   "metadata": {},
   "source": [
    "**Run this code at your command line or terminal to run "
   ]
  },
  {
   "cell_type": "code",
   "execution_count": null,
   "metadata": {},
   "outputs": [],
   "source": [
    "tensorboard --logdir logs\\fit "
   ]
  }
 ],
 "metadata": {
  "kernelspec": {
   "display_name": "Python 3",
   "language": "python",
   "name": "python3"
  },
  "language_info": {
   "codemirror_mode": {
    "name": "ipython",
    "version": 3
   },
   "file_extension": ".py",
   "mimetype": "text/x-python",
   "name": "python",
   "nbconvert_exporter": "python",
   "pygments_lexer": "ipython3",
   "version": "3.7.10"
  }
 },
 "nbformat": 4,
 "nbformat_minor": 2
}
